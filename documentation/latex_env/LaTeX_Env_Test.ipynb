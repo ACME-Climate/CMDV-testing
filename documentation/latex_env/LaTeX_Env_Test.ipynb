{
 "cells": [
  {
   "cell_type": "markdown",
   "metadata": {},
   "source": [
    "The dot product is defined by equation (\\ref{eq:dotp}) in theorem \\ref{theo:dotp} just below:\n",
    "\n",
    "\\begin{theorem}[Dot Product] \\label{theo:dotp}\n",
    "Let $u$ and $v$ be two vectors of $\\mathbb{R}^n$.  The dot product can be expressed as\n",
    "\\begin{equation}\n",
    "\\label{eq:dotp}\n",
    "u^Tv = |u| |v| \\cos \\theta,\n",
    "\\end{equation}\n",
    "where $\\theta$ is the angle between $u$ and $v$ ...\n",
    "\\end{theorem}"
   ]
  },
  {
   "cell_type": "markdown",
   "metadata": {},
   "source": [
    "\\begin{definition} \\label{def:FT}\n",
    "Let $x[n]$ be a sequence of length $N$.  Then, its **Fourier Transform** is given by\n",
    "\\begin{equation} \\label{eq:FT}\n",
    "X[k] = \\frac{1}{N} \\sum_{n=0}^{N-1} x[n] e^{-j2\\pi \\frac{kn}{N}}\n",
    "\\end{equation}\n",
    "\\end{definition}"
   ]
  },
  {
   "cell_type": "markdown",
   "metadata": {},
   "source": [
    "As an example of Definition \\ref{def:FT}, consider the Fourier transform (\\ref{eq:FT}) of a pure cosine wave given by\n",
    "\n",
    "\\begin{equation*}\n",
    "x[n] = \\cos(2\\pi k_0 n/N),\n",
    "\\end{equation*}\n",
    "\n",
    "where $k_0$ is an integer.  Its Fourier transform is given by\n",
    "\n",
    "$$\n",
    "X[k] = \\frac{1}{2} (\\delta[k-k_0] + \\delta[k-k_0]),\n",
    "$$\n",
    "modulo $N$."
   ]
  },
  {
   "cell_type": "markdown",
   "metadata": {},
   "source": [
    "The main paper on IPython is definitively \\cite{PER-GRA:2007}.  Other interesting references are certainly \\cite{mckinney2012python, rossant2013learning}.  Interestingly, a presentation of the IPython notebook has also been published in Nature \\cite{shen2014interactive}."
   ]
  },
  {
   "cell_type": "code",
   "execution_count": null,
   "metadata": {},
   "outputs": [],
   "source": []
  }
 ],
 "metadata": {
  "kernelspec": {
   "display_name": "Python 3",
   "language": "python",
   "name": "python3"
  },
  "language_info": {
   "codemirror_mode": {
    "name": "ipython",
    "version": 3
   },
   "file_extension": ".py",
   "mimetype": "text/x-python",
   "name": "python",
   "nbconvert_exporter": "python",
   "pygments_lexer": "ipython3",
   "version": "3.6.5"
  },
  "latex_envs": {
   "LaTeX_envs_menu_present": true,
   "autoclose": true,
   "autocomplete": false,
   "bibliofile": "biblio.bib",
   "cite_by": "number",
   "current_citInitial": 1,
   "eqLabelWithNumbers": true,
   "eqNumInitial": 1,
   "hotkeys": {
    "equation": "Ctrl-E",
    "itemize": "Ctrl-I"
   },
   "labels_anchors": false,
   "latex_user_defs": false,
   "report_style_numbering": false,
   "user_envs_cfg": false
  }
 },
 "nbformat": 4,
 "nbformat_minor": 2
}
