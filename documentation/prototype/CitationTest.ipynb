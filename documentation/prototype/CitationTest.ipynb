{
 "cells": [
  {
   "cell_type": "markdown",
   "metadata": {},
   "source": [
    "# Citation Test"
   ]
  },
  {
   "cell_type": "markdown",
   "metadata": {},
   "source": [
    "## A Simple Test of Citations"
   ]
  },
  {
   "cell_type": "markdown",
   "metadata": {},
   "source": [
    "The system used here supports different ways of citing references. The primary approach is to reference a BibTeX citation key like this [@Williamson1992]. And I want to test having more than one citation in a single cell [@Haidvogel1997]."
   ]
  },
  {
   "cell_type": "markdown",
   "metadata": {
    "collapsed": true
   },
   "source": [
    "Multiple references in a single citation are handled by separating the BibTeX keys with a semicolon [@Boer1992; @Hortal1991]. The tools we use also allow for a prefix [see @Randall1997] or a suffix [@Williamson1992, pp. 212--213] or both [see @Haidvogel1997, pp. 509--511]."
   ]
  },
  {
   "cell_type": "markdown",
   "metadata": {},
   "source": [
    "Here I test a double citation with prefixes and suffixes [see @Boer1992, p. 12780; also @Washington1986, ch. 2]. The syntax also supports citation by an author such as @Haidvogel1997 without brackets. Here I want to insert an email address, `person@gmail.com`, to test that it avoids being parsed. And finally, the minus sign can be used to suppress the author from appearing in the citation. For example, Purser, at an ECMWF workshop [-@Purser1998] talks about non-standard grids."
   ]
  },
  {
   "cell_type": "code",
   "execution_count": null,
   "metadata": {
    "collapsed": true
   },
   "outputs": [],
   "source": []
  }
 ],
 "metadata": {
  "kernelspec": {
   "display_name": "Python 2",
   "language": "python",
   "name": "python2"
  },
  "language_info": {
   "codemirror_mode": {
    "name": "ipython",
    "version": 2
   },
   "file_extension": ".py",
   "mimetype": "text/x-python",
   "name": "python",
   "nbconvert_exporter": "python",
   "pygments_lexer": "ipython2",
   "version": "2.7.10"
  }
 },
 "nbformat": 4,
 "nbformat_minor": 0
}
