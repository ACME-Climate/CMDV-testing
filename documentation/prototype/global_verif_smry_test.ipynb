{
 "cells": [
  {
   "cell_type": "markdown",
   "metadata": {},
   "source": [
    "# Unit Tests for the Global Verification Summary Module"
   ]
  },
  {
   "cell_type": "markdown",
   "metadata": {},
   "source": [
    "## Component Being Tested\n",
    "Subroutines in global_summary.F90 (but excluding the MPI communications)."
   ]
  },
  {
   "cell_type": "markdown",
   "metadata": {},
   "source": [
    "## Code\n",
    "\n",
    "In ACME's code repository. Currently on branch huiwanpnnl/atm/global_verif_smry.\n",
    "\n",
    "Path: ACME/components/cam/src/physics/granular_tests/global_summary_reorg/"
   ]
  },
  {
   "cell_type": "markdown",
   "metadata": {},
   "source": [
    "## Purpose\n",
    "\n",
    "During an ACME-atmosphere model simulation, a number of global fields are monitored for unphysical values such as negative tracer concentrations or excessive moisture flux from the atmosphere to the Earth's surface. In the standard model, warning messages (when switched on) are printed to atm.log and acme.log from every chunk of the physics grid, which often leads to excessively large log files. The module in ACME/components/cam/src/physics/global_summary.F90 provides concise summaries of the unphysical values. The information printed to the log files include:\n",
    "- the total number of grid cells ( on the entire globe) in which unphysical values occur,\n",
    "- the worst violation, and \n",
    "- when in verbose mode, the locations (latitude, longitude, vertical leve, column and chunk indices) at which the worst values occur.\n",
    "\n",
    "This set of unit tests checks whether the subroutines in global_summary.F90 work as intended."
   ]
  },
  {
   "cell_type": "markdown",
   "metadata": {},
   "source": [
    "## Tests"
   ]
  },
  {
   "cell_type": "markdown",
   "metadata": {},
   "source": [
    "### Initialization\n",
    "The initialization phase tests the following functionalities:\n",
    "- registering fields for global summary,\n",
    "- allocating memory for the arrays that store the chunk summary, domain (single MPI process) summary, and global summary."
   ]
  },
  {
   "cell_type": "markdown",
   "metadata": {},
   "source": [
    "### Testing the summary subroutines\n",
    "The basic method used in the tests is to get two global summaries for the same field, once for values (or absolute values) greater than or equal to a threshold, and once for values (or absolute values) smaller than the same threshold, add the total counts of violation occurance from the two summaries, then check whether\n",
    "- within each chunk, the sum of the two counts matches the total number of cells in the chunk,\n",
    "- within each domain (MPI process), the sum of the two counts matches the total number of cells in the domain,\n",
    "- for each field and each type of summary, the sum of the counts from all chunks match the total count in the domain."
   ]
  },
  {
   "cell_type": "markdown",
   "metadata": {},
   "source": [
    "### Testing the clipping\n",
    "A clipping option is implemented as an option to reset the exceeding values to the threshold. Clipping is turned on during field registration. To test whether the clipping works as extended, we\n",
    "- define a tracer called NEGCOLIDX_FIX, and initialize it with -1._r8*icol where icol is the column index, and turn on clipping.\n",
    "- register two summaries, one for NEGCOLIDX_FIX <= -4.5 and the other for NEGCOLIDX_FIX > -4.0\n",
    "- use the module to get global summeries, then check whether\n",
    "  - the sum of the total counts matches the total number of cells in a chunk/domain\n",
    "  - the minimum and maximum values match the thresholds."
   ]
  },
  {
   "cell_type": "markdown",
   "metadata": {},
   "source": [
    "# Results\n",
    "\n",
    "All the tests described above are coded in a single Fortran subroutine. If the program runs successfully and gives correct results, the following line will be printed to stdout (or a log file):\n",
    "\n",
    "\"all results conformed with expected values\""
   ]
  }
 ],
 "metadata": {
  "anaconda-cloud": {},
  "kernelspec": {
   "display_name": "Python [default]",
   "language": "python",
   "name": "python3"
  },
  "language_info": {
   "codemirror_mode": {
    "name": "ipython",
    "version": 3
   },
   "file_extension": ".py",
   "mimetype": "text/x-python",
   "name": "python",
   "nbconvert_exporter": "python",
   "pygments_lexer": "ipython3",
   "version": "3.5.2"
  }
 },
 "nbformat": 4,
 "nbformat_minor": 0
}
